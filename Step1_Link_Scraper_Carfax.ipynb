{
 "cells": [
  {
   "cell_type": "markdown",
   "metadata": {
    "run_control": {
     "frozen": false,
     "read_only": false
    }
   },
   "source": [
    "# Weblink Scraper for Carfax.com\n",
    "\n"
   ]
  },
  {
   "cell_type": "markdown",
   "metadata": {},
   "source": [
    "#### Libraries Used"
   ]
  },
  {
   "cell_type": "code",
   "execution_count": 1,
   "metadata": {
    "ExecuteTime": {
     "end_time": "2018-04-29T04:27:22.625211Z",
     "start_time": "2018-04-29T04:27:22.017361Z"
    },
    "run_control": {
     "frozen": false,
     "read_only": false
    }
   },
   "outputs": [],
   "source": [
    "import requests\n",
    "from bs4 import BeautifulSoup\n",
    "from selenium import webdriver\n",
    "from selenium.webdriver.common.keys import Keys\n",
    "import time\n",
    "import csv\n",
    "import os"
   ]
  },
  {
   "cell_type": "markdown",
   "metadata": {},
   "source": [
    "### ChromeDriver Required for the Scraper to work. "
   ]
  },
  {
   "cell_type": "code",
   "execution_count": 2,
   "metadata": {
    "ExecuteTime": {
     "end_time": "2018-04-29T04:27:22.776495Z",
     "start_time": "2018-04-29T04:27:22.769779Z"
    },
    "collapsed": true
   },
   "outputs": [],
   "source": [
    "# download chromedriver: https://sites.google.com/a/chromium.org/chromedriver/downloads      \n",
    "chromedriver = \"/Applications/chromedriver\" # path to the chromedriver executable\n",
    "os.environ[\"webdriver.chrome.driver\"] = chromedriver"
   ]
  },
  {
   "cell_type": "markdown",
   "metadata": {},
   "source": [
    "### Step 1 Declare the Webdriver\n"
   ]
  },
  {
   "cell_type": "code",
   "execution_count": 3,
   "metadata": {
    "ExecuteTime": {
     "end_time": "2018-04-29T04:27:34.497406Z",
     "start_time": "2018-04-29T04:27:29.662346Z"
    },
    "collapsed": true
   },
   "outputs": [],
   "source": [
    "##### It will open a chrome browser controlled by the this script.\n",
    "car_url = \"https://www.carfax.com/Used-Cars-Under-75000_f12\"\n",
    "driver2 = webdriver.Chrome(chromedriver)\n",
    "driver2.get(car_url)"
   ]
  },
  {
   "cell_type": "markdown",
   "metadata": {},
   "source": [
    "### Declare Functinos Used for Scraping\n",
    "1. enter_zip - Enter the parameters for websearch. \n",
    "2. get_page_links - Get page links and store them in a CSV Format. \n",
    "3. next_page- Go to Next Page\n"
   ]
  },
  {
   "cell_type": "code",
   "execution_count": 4,
   "metadata": {
    "ExecuteTime": {
     "end_time": "2018-04-29T04:27:34.576105Z",
     "start_time": "2018-04-29T04:27:34.518719Z"
    },
    "collapsed": true,
    "scrolled": true
   },
   "outputs": [],
   "source": [
    "def get_page_links(filename):\n",
    "    \"\"\"get_page_links - Get page links and store them in a CSV Format.\"\"\"\n",
    "    with open((str(filename)+'.csv'), 'a', newline='') as csvfile:\n",
    "        carwriter = csv.writer(csvfile, delimiter=',',quotechar='|', quoting=csv.QUOTE_MINIMAL)\n",
    "        car_selector2 = '//div[@class=\"srp-list-item-description column\"]'\n",
    "        for car_anchor in driver2.find_elements_by_xpath(car_selector2):\n",
    "            output=((car_anchor.find_element_by_css_selector('a').get_attribute('href')))\n",
    "            carwriter.writerow([output])\n",
    "\n",
    "    \n",
    "def next_page():\n",
    "    \"\"\"next_page- Go to Next Page\"\"\"\n",
    "    nextbutton=driver2.find_element_by_xpath('//li[@class=\"next\"]/a')\n",
    "    time.sleep(1)\n",
    "    nextbutton.click()\n",
    "    \n",
    "\n",
    "    \n",
    "def enter_zip(f2):\n",
    "    \"\"\"enter_zip - Enter the parameters for websearch.\"\"\"\n",
    "#     nextbutton=driver2.find_element_by_xpath('//input[@class=\"form-control search-zip ui-input\"]')\n",
    "#     nextbutton.send_keys('zipcode')\n",
    "    zip_form=driver2.find_element_by_name(\"zip\") # note another approach\n",
    "    zip_form.send_keys(f2)\n",
    "    print(f2)\n",
    "    zip_form.send_keys(Keys.RETURN)\n",
    "                                          \n",
    "def start_scraping(num_pages, save_to_file):\n",
    "    time.sleep(3)\n",
    "    \"\"\"Start Scraping for links\"\"\"\n",
    "    for x in range(0, num_pages):\n",
    "        \"\"\"Declare the number of pages that will be scraped\"\"\"\n",
    "        get_page_links(save_to_file)\n",
    "        time.sleep(3)\n",
    "        \"\"\"Window_Before is very useful for scraping websites \n",
    "        that have popups at unexpected times, interm interruping the scraper\"\"\"\n",
    "        window_before = driver2.window_handles[0]\n",
    "        driver2.switch_to_window(window_before)\n",
    "        try:\n",
    "            next_page()\n",
    "        except:\n",
    "            print(x + \"except\")"
   ]
  },
  {
   "cell_type": "markdown",
   "metadata": {},
   "source": [
    "### Enter Parameters for Scraping"
   ]
  },
  {
   "cell_type": "code",
   "execution_count": 5,
   "metadata": {
    "ExecuteTime": {
     "end_time": "2018-04-29T04:27:39.948487Z",
     "start_time": "2018-04-29T04:27:34.597106Z"
    }
   },
   "outputs": [
    {
     "name": "stdout",
     "output_type": "stream",
     "text": [
      "90014\n"
     ]
    }
   ],
   "source": [
    "#Runthis for extract all extracts wrute to file \n",
    "enter_zip('90014')\n",
    "time.sleep(5) \n",
    "\n"
   ]
  },
  {
   "cell_type": "markdown",
   "metadata": {},
   "source": [
    "### Enter: \n",
    "* Number of Pages to Scrape \n",
    "* Filename to save the scaped links as. "
   ]
  },
  {
   "cell_type": "code",
   "execution_count": 6,
   "metadata": {
    "ExecuteTime": {
     "end_time": "2018-04-29T04:28:02.474476Z",
     "start_time": "2018-04-29T04:27:45.787579Z"
    },
    "collapsed": true
   },
   "outputs": [],
   "source": [
    "start_scraping(3,'data/scraped_url')"
   ]
  },
  {
   "cell_type": "code",
   "execution_count": null,
   "metadata": {
    "collapsed": true
   },
   "outputs": [],
   "source": []
  },
  {
   "cell_type": "code",
   "execution_count": null,
   "metadata": {
    "collapsed": true
   },
   "outputs": [],
   "source": []
  }
 ],
 "metadata": {
  "anaconda-cloud": {},
  "hide_input": false,
  "kernelspec": {
   "display_name": "Python 3",
   "language": "python",
   "name": "python3"
  },
  "language_info": {
   "codemirror_mode": {
    "name": "ipython",
    "version": 3
   },
   "file_extension": ".py",
   "mimetype": "text/x-python",
   "name": "python",
   "nbconvert_exporter": "python",
   "pygments_lexer": "ipython3",
   "version": "3.6.6"
  },
  "latex_envs": {
   "LaTeX_envs_menu_present": true,
   "bibliofile": "biblio.bib",
   "cite_by": "apalike",
   "current_citInitial": 1,
   "eqLabelWithNumbers": true,
   "eqNumInitial": 1,
   "hotkeys": {
    "equation": "Ctrl-E",
    "itemize": "Ctrl-I"
   },
   "labels_anchors": false,
   "latex_user_defs": false,
   "report_style_numbering": false,
   "user_envs_cfg": false
  },
  "toc": {
   "nav_menu": {
    "height": "210px",
    "width": "252px"
   },
   "number_sections": false,
   "sideBar": false,
   "skip_h1_title": false,
   "title_cell": "Table of Contents",
   "title_sidebar": "Contents",
   "toc_cell": false,
   "toc_position": {},
   "toc_section_display": "block",
   "toc_window_display": false
  },
  "varInspector": {
   "cols": {
    "lenName": 16,
    "lenType": 16,
    "lenVar": 40
   },
   "kernels_config": {
    "python": {
     "delete_cmd_postfix": "",
     "delete_cmd_prefix": "del ",
     "library": "var_list.py",
     "varRefreshCmd": "print(var_dic_list())"
    },
    "r": {
     "delete_cmd_postfix": ") ",
     "delete_cmd_prefix": "rm(",
     "library": "var_list.r",
     "varRefreshCmd": "cat(var_dic_list()) "
    }
   },
   "types_to_exclude": [
    "module",
    "function",
    "builtin_function_or_method",
    "instance",
    "_Feature"
   ],
   "window_display": false
  }
 },
 "nbformat": 4,
 "nbformat_minor": 1
}
