{
 "cells": [
  {
   "cell_type": "markdown",
   "metadata": {},
   "source": [
    "## Web Scraping List of URL's"
   ]
  },
  {
   "cell_type": "markdown",
   "metadata": {},
   "source": [
    "#### Import Packages"
   ]
  },
  {
   "cell_type": "code",
   "execution_count": 1,
   "metadata": {
    "ExecuteTime": {
     "end_time": "2018-04-29T04:28:31.786508Z",
     "start_time": "2018-04-29T04:28:30.852919Z"
    }
   },
   "outputs": [],
   "source": [
    "from __future__ import print_function, division\n",
    "from bs4 import BeautifulSoup\n",
    "import requests\n",
    "import pandas as pd\n",
    "import csv\n",
    "import pickle\n",
    "import time"
   ]
  },
  {
   "cell_type": "markdown",
   "metadata": {},
   "source": [
    "#### Declare Functions Used for Scraping"
   ]
  },
  {
   "cell_type": "code",
   "execution_count": 10,
   "metadata": {
    "ExecuteTime": {
     "end_time": "2018-04-29T04:28:32.257468Z",
     "start_time": "2018-04-29T04:28:32.079767Z"
    }
   },
   "outputs": [],
   "source": [
    "# url = 'https://www.carfax.com/vehicle/1N4AL3AP6FC212164'\n",
    "def scrape_url(url):\n",
    "    \"\"\"Scrapes through a single URL and Exports Required Fields to a dictionary \"\"\"\n",
    "    get_url=url\n",
    "    get_url\n",
    "    response = requests.get(url)\n",
    "    print(response.status_code)\n",
    "    page = response.text\n",
    "    soup = BeautifulSoup(page,\"html.parser\")\n",
    "    big_tabledata=soup.find(class_='infoTable-table')\n",
    "    df=pd.read_html(big_tabledata)\n",
    "\n",
    "    price=df[0][1][0]\n",
    "    milage=df[0][1][1]\n",
    "    location=df[0][1][2]\n",
    "    ext_color=df[0][1][3]\n",
    "    int_color=df[0][1][4]\n",
    "    drive_type=df[0][1][5]\n",
    "    transmission=df[0][1][6]\n",
    "    body_style=df[0][1][7]\n",
    "    engine=df[0][1][8]\n",
    "    fuel=df[0][1][9]\n",
    "    mpg_city_highway=df[0][1][10]\n",
    "    vin=df[0][1][11]\n",
    "    stock=df[0][1][12]\n",
    "    big_text = soup.find(class_='___iso-state___').prettify()\n",
    "    print(vin)\n",
    "    make_str = big_text.find('\\\\&quot;make\\\\&quot;')\n",
    "    make_tag=(big_text[make_str:make_str+100].split(\"\\\\&quot;\")[1])\n",
    "\n",
    "    #declare make cell\n",
    "    make=(big_text[make_str:make_str+100].split(\"\\\\&quot;\")[3])\n",
    " \n",
    "    #declare model\n",
    "    model_str = big_text.find('\\\\&quot;model\\\\&quot;')\n",
    "    (big_text[model_str:model_str+100].split(\"\\\\&quot;\")[1])\n",
    "    model=(big_text[model_str:model_str+100].split(\"\\\\&quot;\")[3])\n",
    "\n",
    "    #declare year:\n",
    "    year_str = big_text.find(',\\\\&quot;year\\\\&quot;')\n",
    "    (big_text[year_str:year_str+100].split(\"\\\\&quot;\")[1])\n",
    "    year=(big_text[year_str:year_str+100].split(\"\\\\&quot;\")[2])\n",
    "\n",
    "    dict_car=({'vin':vin,'year':year,'model':model,'make':make,'stock':stock,'price':price,\n",
    "       'milage':milage,'location':location,'ext_color':ext_color,'int_color':int_color,'drive_type':drive_type,\n",
    "       'transmission':transmission,'body_style':body_style,'engine':engine,'fuel':fuel,\n",
    "       'mpg_city_highway':mpg_city_highway,'stock':stock})\n",
    "    \n",
    "    dict_car2=str(dict_car)\n",
    "    line_clean=dict_car2.replace(' ','')\n",
    "    line_clean2=line_clean.replace('|','')    \n",
    "    line_clean3=[line_clean2.replace('nan','99')]\n",
    "    line_clean3\n",
    "    df_car = pd.DataFrame((line_clean3))\n",
    "    car_dict= eval(df_car[0][0])\n",
    "\n",
    "    return car_dict\n",
    "\n",
    "def start_scraping(url_list):\n",
    "    \"\"\"Loops through scrape_url(which outputs a dictionary \n",
    "    which is then readily converted to a DataFrame) \"\"\"\n",
    "    df_out = None\n",
    "    for url in url_list: \n",
    "        try:\n",
    "            test=scrape_url(url)\n",
    "            df_abc = pd.DataFrame(test, index=range(1))\n",
    "            if df_out is None:\n",
    "                df_out = df_abc\n",
    "            else:\n",
    "                df_out = df_out.append(df_abc)\n",
    "            time.sleep(3)\n",
    "            df_out.to_csv('test_output.csv')\n",
    "\n",
    "        except:\n",
    "            print('except')\n",
    "    return df_out"
   ]
  },
  {
   "cell_type": "markdown",
   "metadata": {},
   "source": [
    "#### Below is a test for Scrape URL. "
   ]
  },
  {
   "cell_type": "code",
   "execution_count": 12,
   "metadata": {
    "ExecuteTime": {
     "end_time": "2018-04-29T04:28:35.171575Z",
     "start_time": "2018-04-29T04:28:33.304002Z"
    }
   },
   "outputs": [
    {
     "name": "stdout",
     "output_type": "stream",
     "text": [
      "200\n"
     ]
    },
    {
     "ename": "ImportError",
     "evalue": "lxml not found, please install it",
     "output_type": "error",
     "traceback": [
      "\u001b[1;31m---------------------------------------------------------------------------\u001b[0m",
      "\u001b[1;31mImportError\u001b[0m                               Traceback (most recent call last)",
      "\u001b[1;32m<ipython-input-12-78477ff6764c>\u001b[0m in \u001b[0;36m<module>\u001b[1;34m\u001b[0m\n\u001b[1;32m----> 1\u001b[1;33m \u001b[0mprint\u001b[0m\u001b[1;33m(\u001b[0m\u001b[0mscrape_url\u001b[0m\u001b[1;33m(\u001b[0m\u001b[1;34m\"https://www.carfax.com/vehicle/1C6RR7KGXHS548479\"\u001b[0m\u001b[1;33m)\u001b[0m\u001b[1;33m)\u001b[0m\u001b[1;33m\u001b[0m\u001b[0m\n\u001b[0m",
      "\u001b[1;32m<ipython-input-10-50169bff34f4>\u001b[0m in \u001b[0;36mscrape_url\u001b[1;34m(url)\u001b[0m\n\u001b[0;32m      9\u001b[0m     \u001b[0msoup\u001b[0m \u001b[1;33m=\u001b[0m \u001b[0mBeautifulSoup\u001b[0m\u001b[1;33m(\u001b[0m\u001b[0mpage\u001b[0m\u001b[1;33m,\u001b[0m\u001b[1;34m\"html.parser\"\u001b[0m\u001b[1;33m)\u001b[0m\u001b[1;33m\u001b[0m\u001b[0m\n\u001b[0;32m     10\u001b[0m     \u001b[0mbig_tabledata\u001b[0m\u001b[1;33m=\u001b[0m\u001b[0msoup\u001b[0m\u001b[1;33m.\u001b[0m\u001b[0mfind\u001b[0m\u001b[1;33m(\u001b[0m\u001b[0mclass_\u001b[0m\u001b[1;33m=\u001b[0m\u001b[1;34m'infoTable-table'\u001b[0m\u001b[1;33m)\u001b[0m\u001b[1;33m\u001b[0m\u001b[0m\n\u001b[1;32m---> 11\u001b[1;33m     \u001b[0mdf\u001b[0m\u001b[1;33m=\u001b[0m\u001b[0mpd\u001b[0m\u001b[1;33m.\u001b[0m\u001b[0mread_html\u001b[0m\u001b[1;33m(\u001b[0m\u001b[0mbig_tabledata\u001b[0m\u001b[1;33m)\u001b[0m\u001b[1;33m\u001b[0m\u001b[0m\n\u001b[0m\u001b[0;32m     12\u001b[0m \u001b[1;33m\u001b[0m\u001b[0m\n\u001b[0;32m     13\u001b[0m     \u001b[0mprice\u001b[0m\u001b[1;33m=\u001b[0m\u001b[0mdf\u001b[0m\u001b[1;33m[\u001b[0m\u001b[1;36m0\u001b[0m\u001b[1;33m]\u001b[0m\u001b[1;33m[\u001b[0m\u001b[1;36m1\u001b[0m\u001b[1;33m]\u001b[0m\u001b[1;33m[\u001b[0m\u001b[1;36m0\u001b[0m\u001b[1;33m]\u001b[0m\u001b[1;33m\u001b[0m\u001b[0m\n",
      "\u001b[1;32mc:\\users\\tm_ad\\appdata\\local\\programs\\python\\python36\\lib\\site-packages\\pandas\\io\\html.py\u001b[0m in \u001b[0;36mread_html\u001b[1;34m(io, match, flavor, header, index_col, skiprows, attrs, parse_dates, thousands, encoding, decimal, converters, na_values, keep_default_na, displayed_only)\u001b[0m\n\u001b[0;32m   1103\u001b[0m         \u001b[0mna_values\u001b[0m\u001b[1;33m=\u001b[0m\u001b[0mna_values\u001b[0m\u001b[1;33m,\u001b[0m\u001b[1;33m\u001b[0m\u001b[0m\n\u001b[0;32m   1104\u001b[0m         \u001b[0mkeep_default_na\u001b[0m\u001b[1;33m=\u001b[0m\u001b[0mkeep_default_na\u001b[0m\u001b[1;33m,\u001b[0m\u001b[1;33m\u001b[0m\u001b[0m\n\u001b[1;32m-> 1105\u001b[1;33m         \u001b[0mdisplayed_only\u001b[0m\u001b[1;33m=\u001b[0m\u001b[0mdisplayed_only\u001b[0m\u001b[1;33m,\u001b[0m\u001b[1;33m\u001b[0m\u001b[0m\n\u001b[0m\u001b[0;32m   1106\u001b[0m     )\n",
      "\u001b[1;32mc:\\users\\tm_ad\\appdata\\local\\programs\\python\\python36\\lib\\site-packages\\pandas\\io\\html.py\u001b[0m in \u001b[0;36m_parse\u001b[1;34m(flavor, io, match, attrs, encoding, displayed_only, **kwargs)\u001b[0m\n\u001b[0;32m    886\u001b[0m     \u001b[0mretained\u001b[0m \u001b[1;33m=\u001b[0m \u001b[1;32mNone\u001b[0m\u001b[1;33m\u001b[0m\u001b[0m\n\u001b[0;32m    887\u001b[0m     \u001b[1;32mfor\u001b[0m \u001b[0mflav\u001b[0m \u001b[1;32min\u001b[0m \u001b[0mflavor\u001b[0m\u001b[1;33m:\u001b[0m\u001b[1;33m\u001b[0m\u001b[0m\n\u001b[1;32m--> 888\u001b[1;33m         \u001b[0mparser\u001b[0m \u001b[1;33m=\u001b[0m \u001b[0m_parser_dispatch\u001b[0m\u001b[1;33m(\u001b[0m\u001b[0mflav\u001b[0m\u001b[1;33m)\u001b[0m\u001b[1;33m\u001b[0m\u001b[0m\n\u001b[0m\u001b[0;32m    889\u001b[0m         \u001b[0mp\u001b[0m \u001b[1;33m=\u001b[0m \u001b[0mparser\u001b[0m\u001b[1;33m(\u001b[0m\u001b[0mio\u001b[0m\u001b[1;33m,\u001b[0m \u001b[0mcompiled_match\u001b[0m\u001b[1;33m,\u001b[0m \u001b[0mattrs\u001b[0m\u001b[1;33m,\u001b[0m \u001b[0mencoding\u001b[0m\u001b[1;33m,\u001b[0m \u001b[0mdisplayed_only\u001b[0m\u001b[1;33m)\u001b[0m\u001b[1;33m\u001b[0m\u001b[0m\n\u001b[0;32m    890\u001b[0m \u001b[1;33m\u001b[0m\u001b[0m\n",
      "\u001b[1;32mc:\\users\\tm_ad\\appdata\\local\\programs\\python\\python36\\lib\\site-packages\\pandas\\io\\html.py\u001b[0m in \u001b[0;36m_parser_dispatch\u001b[1;34m(flavor)\u001b[0m\n\u001b[0;32m    841\u001b[0m     \u001b[1;32melse\u001b[0m\u001b[1;33m:\u001b[0m\u001b[1;33m\u001b[0m\u001b[0m\n\u001b[0;32m    842\u001b[0m         \u001b[1;32mif\u001b[0m \u001b[1;32mnot\u001b[0m \u001b[0m_HAS_LXML\u001b[0m\u001b[1;33m:\u001b[0m\u001b[1;33m\u001b[0m\u001b[0m\n\u001b[1;32m--> 843\u001b[1;33m             \u001b[1;32mraise\u001b[0m \u001b[0mImportError\u001b[0m\u001b[1;33m(\u001b[0m\u001b[1;34m\"lxml not found, please install it\"\u001b[0m\u001b[1;33m)\u001b[0m\u001b[1;33m\u001b[0m\u001b[0m\n\u001b[0m\u001b[0;32m    844\u001b[0m     \u001b[1;32mreturn\u001b[0m \u001b[0m_valid_parsers\u001b[0m\u001b[1;33m[\u001b[0m\u001b[0mflavor\u001b[0m\u001b[1;33m]\u001b[0m\u001b[1;33m\u001b[0m\u001b[0m\n\u001b[0;32m    845\u001b[0m \u001b[1;33m\u001b[0m\u001b[0m\n",
      "\u001b[1;31mImportError\u001b[0m: lxml not found, please install it"
     ]
    }
   ],
   "source": [
    "print(scrape_url(\"https://www.carfax.com/vehicle/1C6RR7KGXHS548479\"))"
   ]
  },
  {
   "cell_type": "markdown",
   "metadata": {},
   "source": [
    "### List below Imports a file with All URL's to Scrape Through. 26,000 Records were updated. "
   ]
  },
  {
   "cell_type": "code",
   "execution_count": 5,
   "metadata": {
    "ExecuteTime": {
     "end_time": "2018-04-29T04:29:42.468477Z",
     "start_time": "2018-04-29T04:29:42.461913Z"
    }
   },
   "outputs": [],
   "source": [
    "#All URLS in a CSV file are converted into a list. \n",
    "all_urls = []\n",
    "with open('data/step1_output_scraped_url_.csv') as csv_file:\n",
    "    reader = csv.reader(csv_file)\n",
    "    for row in reader:\n",
    "        all_urls.append(row[0])\n",
    "all_urls_v2=all_urls\n",
    "all_urls_v3=(set(all_urls_v2))"
   ]
  },
  {
   "cell_type": "markdown",
   "metadata": {},
   "source": [
    "#### Declard URL's for testing the function. "
   ]
  },
  {
   "cell_type": "code",
   "execution_count": 5,
   "metadata": {
    "ExecuteTime": {
     "end_time": "2018-04-29T04:29:44.569332Z",
     "start_time": "2018-04-29T04:29:44.564042Z"
    }
   },
   "outputs": [],
   "source": [
    "test_url = [\n",
    "    'https://www.carfax.com/vehicle/2C3CDXHG6GH305721', 'google.com',\n",
    "    'https://www.carfax.com/vehicle/2C3CDXHG6GH305721'\n",
    "]"
   ]
  },
  {
   "cell_type": "markdown",
   "metadata": {},
   "source": [
    "#### Start the scraper and Assign it to a DataFrame."
   ]
  },
  {
   "cell_type": "code",
   "execution_count": 6,
   "metadata": {
    "ExecuteTime": {
     "end_time": "2018-04-29T04:29:55.095174Z",
     "start_time": "2018-04-29T04:29:45.521214Z"
    }
   },
   "outputs": [
    {
     "name": "stdout",
     "output_type": "stream",
     "text": [
      "404\n",
      "except\n",
      "except\n",
      "404\n",
      "except\n"
     ]
    }
   ],
   "source": [
    "Scrape_Output=(start_scraping(test_url))"
   ]
  },
  {
   "cell_type": "markdown",
   "metadata": {},
   "source": [
    "#### Remove Duplicates from the Dataframe before Export"
   ]
  },
  {
   "cell_type": "code",
   "execution_count": 8,
   "metadata": {
    "ExecuteTime": {
     "end_time": "2018-04-29T04:30:04.587398Z",
     "start_time": "2018-04-29T04:30:04.562557Z"
    }
   },
   "outputs": [
    {
     "data": {
      "text/html": [
       "<div>\n",
       "<style>\n",
       "    .dataframe thead tr:only-child th {\n",
       "        text-align: right;\n",
       "    }\n",
       "\n",
       "    .dataframe thead th {\n",
       "        text-align: left;\n",
       "    }\n",
       "\n",
       "    .dataframe tbody tr th {\n",
       "        vertical-align: top;\n",
       "    }\n",
       "</style>\n",
       "<table border=\"1\" class=\"dataframe\">\n",
       "  <thead>\n",
       "    <tr style=\"text-align: right;\">\n",
       "      <th></th>\n",
       "      <th>body_style</th>\n",
       "      <th>drive_type</th>\n",
       "      <th>engine</th>\n",
       "      <th>ext_color</th>\n",
       "      <th>fuel</th>\n",
       "      <th>int_color</th>\n",
       "      <th>location</th>\n",
       "      <th>make</th>\n",
       "      <th>milage</th>\n",
       "      <th>model</th>\n",
       "      <th>mpg_city_highway</th>\n",
       "      <th>price</th>\n",
       "      <th>stock</th>\n",
       "      <th>transmission</th>\n",
       "      <th>vin</th>\n",
       "      <th>year</th>\n",
       "    </tr>\n",
       "  </thead>\n",
       "  <tbody>\n",
       "    <tr>\n",
       "      <th>0</th>\n",
       "      <td>Sedan</td>\n",
       "      <td>RWD</td>\n",
       "      <td>6Cyl3.6L</td>\n",
       "      <td>Silver</td>\n",
       "      <td>Gasoline</td>\n",
       "      <td>Unspecified</td>\n",
       "      <td>Concord,CA</td>\n",
       "      <td>Dodge</td>\n",
       "      <td>39,854miles</td>\n",
       "      <td>Charger</td>\n",
       "      <td>19/30</td>\n",
       "      <td>$18,900</td>\n",
       "      <td>GH305721RC</td>\n",
       "      <td>Automatic</td>\n",
       "      <td>2C3CDXHG6GH305721</td>\n",
       "      <td>:2016,</td>\n",
       "    </tr>\n",
       "  </tbody>\n",
       "</table>\n",
       "</div>"
      ],
      "text/plain": [
       "  body_style drive_type    engine ext_color      fuel    int_color  \\\n",
       "0      Sedan        RWD  6Cyl3.6L    Silver  Gasoline  Unspecified   \n",
       "\n",
       "     location   make       milage    model mpg_city_highway    price  \\\n",
       "0  Concord,CA  Dodge  39,854miles  Charger            19/30  $18,900   \n",
       "\n",
       "        stock transmission                vin    year  \n",
       "0  GH305721RC    Automatic  2C3CDXHG6GH305721  :2016,  "
      ]
     },
     "execution_count": 8,
     "metadata": {},
     "output_type": "execute_result"
    }
   ],
   "source": [
    "df_remove_dups=Scrape_Output.drop_duplicates(['vin'], keep='last')\n",
    "df_remove_dups\n"
   ]
  },
  {
   "cell_type": "markdown",
   "metadata": {},
   "source": [
    "#### Export the File for further EDA"
   ]
  },
  {
   "cell_type": "code",
   "execution_count": 9,
   "metadata": {
    "ExecuteTime": {
     "end_time": "2018-04-29T04:30:08.267721Z",
     "start_time": "2018-04-29T04:30:08.261697Z"
    },
    "collapsed": true
   },
   "outputs": [],
   "source": [
    "df_remove_dups.to_csv('data/html_extract.csv')"
   ]
  },
  {
   "cell_type": "code",
   "execution_count": null,
   "metadata": {
    "collapsed": true
   },
   "outputs": [],
   "source": []
  },
  {
   "cell_type": "code",
   "execution_count": null,
   "metadata": {
    "collapsed": true
   },
   "outputs": [],
   "source": []
  }
 ],
 "metadata": {
  "anaconda-cloud": {},
  "kernelspec": {
   "display_name": "Python 3",
   "language": "python",
   "name": "python3"
  },
  "language_info": {
   "codemirror_mode": {
    "name": "ipython",
    "version": 3
   },
   "file_extension": ".py",
   "mimetype": "text/x-python",
   "name": "python",
   "nbconvert_exporter": "python",
   "pygments_lexer": "ipython3",
   "version": "3.6.6"
  },
  "varInspector": {
   "cols": {
    "lenName": 16,
    "lenType": 16,
    "lenVar": 40
   },
   "kernels_config": {
    "python": {
     "delete_cmd_postfix": "",
     "delete_cmd_prefix": "del ",
     "library": "var_list.py",
     "varRefreshCmd": "print(var_dic_list())"
    },
    "r": {
     "delete_cmd_postfix": ") ",
     "delete_cmd_prefix": "rm(",
     "library": "var_list.r",
     "varRefreshCmd": "cat(var_dic_list()) "
    }
   },
   "types_to_exclude": [
    "module",
    "function",
    "builtin_function_or_method",
    "instance",
    "_Feature"
   ],
   "window_display": false
  }
 },
 "nbformat": 4,
 "nbformat_minor": 1
}
