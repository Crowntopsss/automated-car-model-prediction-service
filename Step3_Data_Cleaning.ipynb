{
 "cells": [
  {
   "cell_type": "markdown",
   "metadata": {},
   "source": [
    "### Data Cleaning of 26,000 Records for Further Analysis"
   ]
  },
  {
   "cell_type": "markdown",
   "metadata": {},
   "source": [
    "#### Packages Used"
   ]
  },
  {
   "cell_type": "code",
   "execution_count": 1,
   "metadata": {
    "ExecuteTime": {
     "end_time": "2018-04-29T04:30:17.080753Z",
     "start_time": "2018-04-29T04:30:15.986277Z"
    }
   },
   "outputs": [
    {
     "name": "stderr",
     "output_type": "stream",
     "text": [
      "UsageError: Line magic function `%` not found.\n"
     ]
    }
   ],
   "source": [
    "import re\n",
    "import pandas as pd\n",
    "import matplotlib.pyplot\n",
    "import collections\n",
    "from collections import Counter\n",
    "import numpy as np\n",
    "import seaborn as sns\n",
    "import patsy\n",
    "% pylab inline\n"
   ]
  },
  {
   "cell_type": "markdown",
   "metadata": {},
   "source": [
    "#### Import the file as DataFrame(df) "
   ]
  },
  {
   "cell_type": "code",
   "execution_count": 2,
   "metadata": {
    "ExecuteTime": {
     "end_time": "2018-04-29T04:30:17.756820Z",
     "start_time": "2018-04-29T04:30:17.637432Z"
    }
   },
   "outputs": [],
   "source": [
    "df=pd.read_csv('data/Step3_input_raw_data.csv')"
   ]
  },
  {
   "cell_type": "markdown",
   "metadata": {},
   "source": [
    "#### Start the Cleaning"
   ]
  },
  {
   "cell_type": "code",
   "execution_count": 3,
   "metadata": {
    "ExecuteTime": {
     "end_time": "2018-04-29T04:30:18.966345Z",
     "start_time": "2018-04-29T04:30:18.940740Z"
    }
   },
   "outputs": [
    {
     "data": {
      "text/html": [
       "<div>\n",
       "<style scoped>\n",
       "    .dataframe tbody tr th:only-of-type {\n",
       "        vertical-align: middle;\n",
       "    }\n",
       "\n",
       "    .dataframe tbody tr th {\n",
       "        vertical-align: top;\n",
       "    }\n",
       "\n",
       "    .dataframe thead th {\n",
       "        text-align: right;\n",
       "    }\n",
       "</style>\n",
       "<table border=\"1\" class=\"dataframe\">\n",
       "  <thead>\n",
       "    <tr style=\"text-align: right;\">\n",
       "      <th></th>\n",
       "      <th>body_style</th>\n",
       "      <th>drive_type</th>\n",
       "      <th>engine</th>\n",
       "      <th>ext_color</th>\n",
       "      <th>fuel</th>\n",
       "      <th>int_color</th>\n",
       "      <th>location</th>\n",
       "      <th>make</th>\n",
       "      <th>milage</th>\n",
       "      <th>model</th>\n",
       "      <th>mpg_city_highway</th>\n",
       "      <th>price</th>\n",
       "      <th>stock</th>\n",
       "      <th>transmission</th>\n",
       "      <th>vin</th>\n",
       "      <th>year</th>\n",
       "      <th>Region</th>\n",
       "    </tr>\n",
       "  </thead>\n",
       "  <tbody>\n",
       "    <tr>\n",
       "      <td>0</td>\n",
       "      <td>SUV</td>\n",
       "      <td>FWD</td>\n",
       "      <td>6Cyl3.6L</td>\n",
       "      <td>Unspecified</td>\n",
       "      <td>Gasoline</td>\n",
       "      <td>Unspecified</td>\n",
       "      <td>Indianapolis,IN</td>\n",
       "      <td>GMC</td>\n",
       "      <td>90,440miles</td>\n",
       "      <td>Acadia</td>\n",
       "      <td>17/24</td>\n",
       "      <td>$14,995</td>\n",
       "      <td>E79334</td>\n",
       "      <td>Automatic</td>\n",
       "      <td>1GKKRSED1BJ179334</td>\n",
       "      <td>:2011,</td>\n",
       "      <td>Central</td>\n",
       "    </tr>\n",
       "    <tr>\n",
       "      <td>1</td>\n",
       "      <td>Sedan</td>\n",
       "      <td>FWD</td>\n",
       "      <td>6Cyl3.5L</td>\n",
       "      <td>White</td>\n",
       "      <td>Flexible-Fuel</td>\n",
       "      <td>Black</td>\n",
       "      <td>Fishers,IN</td>\n",
       "      <td>Chevrolet</td>\n",
       "      <td>85,961miles</td>\n",
       "      <td>Impala</td>\n",
       "      <td>19/29</td>\n",
       "      <td>$7,894</td>\n",
       "      <td>PV5110A</td>\n",
       "      <td>Automatic</td>\n",
       "      <td>2G1WF5EK1B1155818</td>\n",
       "      <td>:2011,</td>\n",
       "      <td>Central</td>\n",
       "    </tr>\n",
       "    <tr>\n",
       "      <td>2</td>\n",
       "      <td>Sedan</td>\n",
       "      <td>AWD</td>\n",
       "      <td>6Cyl2.5L</td>\n",
       "      <td>Gray</td>\n",
       "      <td>Gasoline</td>\n",
       "      <td>Black</td>\n",
       "      <td>BeechGrove,IN</td>\n",
       "      <td>BMW</td>\n",
       "      <td>152,000miles</td>\n",
       "      <td>3Series</td>\n",
       "      <td>17/24</td>\n",
       "      <td>$4,200</td>\n",
       "      <td>m59833</td>\n",
       "      <td>Automatic</td>\n",
       "      <td>WBAEU334X4PM59833</td>\n",
       "      <td>:2004,</td>\n",
       "      <td>Central</td>\n",
       "    </tr>\n",
       "    <tr>\n",
       "      <td>3</td>\n",
       "      <td>Minivan</td>\n",
       "      <td>FWD</td>\n",
       "      <td>6Cyl3.5L</td>\n",
       "      <td>White</td>\n",
       "      <td>Gasoline</td>\n",
       "      <td>Tan</td>\n",
       "      <td>Fishers,IN</td>\n",
       "      <td>Nissan</td>\n",
       "      <td>40,347miles</td>\n",
       "      <td>Quest</td>\n",
       "      <td>19/25</td>\n",
       "      <td>$21,200</td>\n",
       "      <td>18B378</td>\n",
       "      <td>Automatic</td>\n",
       "      <td>JN8AE2KP4E9106731</td>\n",
       "      <td>:2014,</td>\n",
       "      <td>Central</td>\n",
       "    </tr>\n",
       "    <tr>\n",
       "      <td>4</td>\n",
       "      <td>Van</td>\n",
       "      <td>FWD</td>\n",
       "      <td>4Cyl2.0L</td>\n",
       "      <td>White</td>\n",
       "      <td>Gasoline</td>\n",
       "      <td>Gray</td>\n",
       "      <td>Fishers,IN</td>\n",
       "      <td>Nissan</td>\n",
       "      <td>103,728miles</td>\n",
       "      <td>NV200</td>\n",
       "      <td>24/25</td>\n",
       "      <td>$10,000</td>\n",
       "      <td>693736</td>\n",
       "      <td>Automatic</td>\n",
       "      <td>3N6CM0KN7DK693736</td>\n",
       "      <td>:2013,</td>\n",
       "      <td>Central</td>\n",
       "    </tr>\n",
       "  </tbody>\n",
       "</table>\n",
       "</div>"
      ],
      "text/plain": [
       "  body_style drive_type    engine    ext_color           fuel    int_color  \\\n",
       "0        SUV        FWD  6Cyl3.6L  Unspecified       Gasoline  Unspecified   \n",
       "1      Sedan        FWD  6Cyl3.5L        White  Flexible-Fuel        Black   \n",
       "2      Sedan        AWD  6Cyl2.5L         Gray       Gasoline        Black   \n",
       "3    Minivan        FWD  6Cyl3.5L        White       Gasoline          Tan   \n",
       "4        Van        FWD  4Cyl2.0L        White       Gasoline         Gray   \n",
       "\n",
       "          location       make        milage    model mpg_city_highway  \\\n",
       "0  Indianapolis,IN        GMC   90,440miles   Acadia            17/24   \n",
       "1       Fishers,IN  Chevrolet   85,961miles   Impala            19/29   \n",
       "2    BeechGrove,IN        BMW  152,000miles  3Series            17/24   \n",
       "3       Fishers,IN     Nissan   40,347miles    Quest            19/25   \n",
       "4       Fishers,IN     Nissan  103,728miles    NV200            24/25   \n",
       "\n",
       "     price    stock transmission                vin    year   Region  \n",
       "0  $14,995   E79334    Automatic  1GKKRSED1BJ179334  :2011,  Central  \n",
       "1   $7,894  PV5110A    Automatic  2G1WF5EK1B1155818  :2011,  Central  \n",
       "2   $4,200   m59833    Automatic  WBAEU334X4PM59833  :2004,  Central  \n",
       "3  $21,200   18B378    Automatic  JN8AE2KP4E9106731  :2014,  Central  \n",
       "4  $10,000   693736    Automatic  3N6CM0KN7DK693736  :2013,  Central  "
      ]
     },
     "execution_count": 3,
     "metadata": {},
     "output_type": "execute_result"
    }
   ],
   "source": [
    "#Remove Unwanted Columns:\n",
    "df2=df.iloc[:,2:]\n",
    "df2.head()"
   ]
  },
  {
   "cell_type": "markdown",
   "metadata": {},
   "source": [
    "#### Extract Useful Columns"
   ]
  },
  {
   "cell_type": "code",
   "execution_count": 4,
   "metadata": {
    "ExecuteTime": {
     "end_time": "2018-04-29T04:30:20.045116Z",
     "start_time": "2018-04-29T04:30:20.033848Z"
    }
   },
   "outputs": [],
   "source": [
    "#Rearrange-cols\n",
    "df3= df2[[ 'vin', 'price',\n",
    " 'body_style',\n",
    " 'drive_type',\n",
    " 'engine',\n",
    " 'ext_color',\n",
    " 'fuel',\n",
    " 'int_color',\n",
    " 'location',\n",
    " 'make',\n",
    " 'milage',\n",
    " 'model',\n",
    " 'mpg_city_highway',\n",
    " 'stock',\n",
    " 'transmission',\n",
    " 'year',\n",
    " 'Region']]"
   ]
  },
  {
   "cell_type": "code",
   "execution_count": 5,
   "metadata": {
    "ExecuteTime": {
     "end_time": "2018-04-29T04:30:20.721307Z",
     "start_time": "2018-04-29T04:30:20.649762Z"
    }
   },
   "outputs": [],
   "source": [
    "df4 = pd.DataFrame(df3.location.str.split(',',).tolist(),\n",
    "                                   columns = ['City','State'])"
   ]
  },
  {
   "cell_type": "code",
   "execution_count": 6,
   "metadata": {
    "ExecuteTime": {
     "end_time": "2018-04-29T04:30:20.954822Z",
     "start_time": "2018-04-29T04:30:20.920847Z"
    }
   },
   "outputs": [],
   "source": [
    "\n",
    "df4a = pd.DataFrame(df3.engine.str.split('Cyl',).tolist(),\n",
    "                                   columns = ['Num_Cyl','Cyl_Volume'])"
   ]
  },
  {
   "cell_type": "code",
   "execution_count": 7,
   "metadata": {
    "ExecuteTime": {
     "end_time": "2018-04-29T04:30:21.139205Z",
     "start_time": "2018-04-29T04:30:21.128108Z"
    }
   },
   "outputs": [],
   "source": [
    "df5 = pd.concat([df4, df3,df4a], axis=1)"
   ]
  },
  {
   "cell_type": "code",
   "execution_count": 8,
   "metadata": {
    "ExecuteTime": {
     "end_time": "2018-04-29T04:30:21.391859Z",
     "start_time": "2018-04-29T04:30:21.343681Z"
    }
   },
   "outputs": [],
   "source": [
    "df5['price']=df5['price'].str.replace(',',\"\")\n",
    "df5['price']=df5['price'].str.replace('$',\"\")\n",
    "df5['Cyl_Volume']=df5['Cyl_Volume'].str.replace('L',\"\")"
   ]
  },
  {
   "cell_type": "code",
   "execution_count": 9,
   "metadata": {
    "ExecuteTime": {
     "end_time": "2018-04-29T04:30:21.554067Z",
     "start_time": "2018-04-29T04:30:21.519762Z"
    }
   },
   "outputs": [],
   "source": [
    "df6 = pd.DataFrame(df3.mpg_city_highway.str.split('/',).tolist(),\n",
    "                                   columns = ['City_MPG','Highway_MPG'])\n"
   ]
  },
  {
   "cell_type": "code",
   "execution_count": 10,
   "metadata": {
    "ExecuteTime": {
     "end_time": "2018-04-29T04:30:21.707464Z",
     "start_time": "2018-04-29T04:30:21.686892Z"
    }
   },
   "outputs": [],
   "source": [
    "df7= pd.concat([df6, df5], axis=1)"
   ]
  },
  {
   "cell_type": "code",
   "execution_count": 11,
   "metadata": {
    "ExecuteTime": {
     "end_time": "2018-04-29T04:30:21.912967Z",
     "start_time": "2018-04-29T04:30:21.874133Z"
    }
   },
   "outputs": [],
   "source": [
    "df7['year']=df7['year'].str.replace(':',\"\")\n",
    "df7['year']=df7['year'].str.replace(',',\"\")\n",
    "df7['year']=df7['year'].str.replace(',',\"\")"
   ]
  },
  {
   "cell_type": "code",
   "execution_count": 12,
   "metadata": {
    "ExecuteTime": {
     "end_time": "2018-04-29T04:30:22.114394Z",
     "start_time": "2018-04-29T04:30:22.076922Z"
    }
   },
   "outputs": [],
   "source": [
    "df7['milage']=df7['milage'].str.replace('miles',\"\")\n",
    "df7['milage']=df7['milage'].str.replace(',',\"\")"
   ]
  },
  {
   "cell_type": "code",
   "execution_count": 13,
   "metadata": {
    "ExecuteTime": {
     "end_time": "2018-04-29T04:30:22.304287Z",
     "start_time": "2018-04-29T04:30:22.279138Z"
    }
   },
   "outputs": [],
   "source": [
    "df7['engine']=df7['engine'].str.split('Cyl')"
   ]
  },
  {
   "cell_type": "code",
   "execution_count": 14,
   "metadata": {
    "ExecuteTime": {
     "end_time": "2018-04-29T04:30:22.565398Z",
     "start_time": "2018-04-29T04:30:22.486194Z"
    }
   },
   "outputs": [
    {
     "data": {
      "text/html": [
       "<div>\n",
       "<style scoped>\n",
       "    .dataframe tbody tr th:only-of-type {\n",
       "        vertical-align: middle;\n",
       "    }\n",
       "\n",
       "    .dataframe tbody tr th {\n",
       "        vertical-align: top;\n",
       "    }\n",
       "\n",
       "    .dataframe thead th {\n",
       "        text-align: right;\n",
       "    }\n",
       "</style>\n",
       "<table border=\"1\" class=\"dataframe\">\n",
       "  <thead>\n",
       "    <tr style=\"text-align: right;\">\n",
       "      <th></th>\n",
       "      <th>City_MPG</th>\n",
       "      <th>Highway_MPG</th>\n",
       "      <th>City</th>\n",
       "      <th>State</th>\n",
       "      <th>vin</th>\n",
       "      <th>price</th>\n",
       "      <th>body_style</th>\n",
       "      <th>drive_type</th>\n",
       "      <th>engine</th>\n",
       "      <th>ext_color</th>\n",
       "      <th>...</th>\n",
       "      <th>make</th>\n",
       "      <th>milage</th>\n",
       "      <th>model</th>\n",
       "      <th>mpg_city_highway</th>\n",
       "      <th>stock</th>\n",
       "      <th>transmission</th>\n",
       "      <th>year</th>\n",
       "      <th>Region</th>\n",
       "      <th>Num_Cyl</th>\n",
       "      <th>Cyl_Volume</th>\n",
       "    </tr>\n",
       "  </thead>\n",
       "  <tbody>\n",
       "    <tr>\n",
       "      <td>0</td>\n",
       "      <td>17</td>\n",
       "      <td>24</td>\n",
       "      <td>Indianapolis</td>\n",
       "      <td>IN</td>\n",
       "      <td>1GKKRSED1BJ179334</td>\n",
       "      <td>14995</td>\n",
       "      <td>SUV</td>\n",
       "      <td>FWD</td>\n",
       "      <td>[6, 3.6L]</td>\n",
       "      <td>Unspecified</td>\n",
       "      <td>...</td>\n",
       "      <td>GMC</td>\n",
       "      <td>90440</td>\n",
       "      <td>Acadia</td>\n",
       "      <td>17/24</td>\n",
       "      <td>E79334</td>\n",
       "      <td>Automatic</td>\n",
       "      <td>2011</td>\n",
       "      <td>Central</td>\n",
       "      <td>6</td>\n",
       "      <td>3.6</td>\n",
       "    </tr>\n",
       "    <tr>\n",
       "      <td>1</td>\n",
       "      <td>19</td>\n",
       "      <td>29</td>\n",
       "      <td>Fishers</td>\n",
       "      <td>IN</td>\n",
       "      <td>2G1WF5EK1B1155818</td>\n",
       "      <td>7894</td>\n",
       "      <td>Sedan</td>\n",
       "      <td>FWD</td>\n",
       "      <td>[6, 3.5L]</td>\n",
       "      <td>White</td>\n",
       "      <td>...</td>\n",
       "      <td>Chevrolet</td>\n",
       "      <td>85961</td>\n",
       "      <td>Impala</td>\n",
       "      <td>19/29</td>\n",
       "      <td>PV5110A</td>\n",
       "      <td>Automatic</td>\n",
       "      <td>2011</td>\n",
       "      <td>Central</td>\n",
       "      <td>6</td>\n",
       "      <td>3.5</td>\n",
       "    </tr>\n",
       "    <tr>\n",
       "      <td>2</td>\n",
       "      <td>17</td>\n",
       "      <td>24</td>\n",
       "      <td>BeechGrove</td>\n",
       "      <td>IN</td>\n",
       "      <td>WBAEU334X4PM59833</td>\n",
       "      <td>4200</td>\n",
       "      <td>Sedan</td>\n",
       "      <td>AWD</td>\n",
       "      <td>[6, 2.5L]</td>\n",
       "      <td>Gray</td>\n",
       "      <td>...</td>\n",
       "      <td>BMW</td>\n",
       "      <td>152000</td>\n",
       "      <td>3Series</td>\n",
       "      <td>17/24</td>\n",
       "      <td>m59833</td>\n",
       "      <td>Automatic</td>\n",
       "      <td>2004</td>\n",
       "      <td>Central</td>\n",
       "      <td>6</td>\n",
       "      <td>2.5</td>\n",
       "    </tr>\n",
       "    <tr>\n",
       "      <td>3</td>\n",
       "      <td>19</td>\n",
       "      <td>25</td>\n",
       "      <td>Fishers</td>\n",
       "      <td>IN</td>\n",
       "      <td>JN8AE2KP4E9106731</td>\n",
       "      <td>21200</td>\n",
       "      <td>Minivan</td>\n",
       "      <td>FWD</td>\n",
       "      <td>[6, 3.5L]</td>\n",
       "      <td>White</td>\n",
       "      <td>...</td>\n",
       "      <td>Nissan</td>\n",
       "      <td>40347</td>\n",
       "      <td>Quest</td>\n",
       "      <td>19/25</td>\n",
       "      <td>18B378</td>\n",
       "      <td>Automatic</td>\n",
       "      <td>2014</td>\n",
       "      <td>Central</td>\n",
       "      <td>6</td>\n",
       "      <td>3.5</td>\n",
       "    </tr>\n",
       "    <tr>\n",
       "      <td>4</td>\n",
       "      <td>24</td>\n",
       "      <td>25</td>\n",
       "      <td>Fishers</td>\n",
       "      <td>IN</td>\n",
       "      <td>3N6CM0KN7DK693736</td>\n",
       "      <td>10000</td>\n",
       "      <td>Van</td>\n",
       "      <td>FWD</td>\n",
       "      <td>[4, 2.0L]</td>\n",
       "      <td>White</td>\n",
       "      <td>...</td>\n",
       "      <td>Nissan</td>\n",
       "      <td>103728</td>\n",
       "      <td>NV200</td>\n",
       "      <td>24/25</td>\n",
       "      <td>693736</td>\n",
       "      <td>Automatic</td>\n",
       "      <td>2013</td>\n",
       "      <td>Central</td>\n",
       "      <td>4</td>\n",
       "      <td>2.0</td>\n",
       "    </tr>\n",
       "  </tbody>\n",
       "</table>\n",
       "<p>5 rows × 23 columns</p>\n",
       "</div>"
      ],
      "text/plain": [
       "  City_MPG Highway_MPG          City State                vin  price  \\\n",
       "0       17          24  Indianapolis    IN  1GKKRSED1BJ179334  14995   \n",
       "1       19          29       Fishers    IN  2G1WF5EK1B1155818   7894   \n",
       "2       17          24    BeechGrove    IN  WBAEU334X4PM59833   4200   \n",
       "3       19          25       Fishers    IN  JN8AE2KP4E9106731  21200   \n",
       "4       24          25       Fishers    IN  3N6CM0KN7DK693736  10000   \n",
       "\n",
       "  body_style drive_type     engine    ext_color  ...       make  milage  \\\n",
       "0        SUV        FWD  [6, 3.6L]  Unspecified  ...        GMC   90440   \n",
       "1      Sedan        FWD  [6, 3.5L]        White  ...  Chevrolet   85961   \n",
       "2      Sedan        AWD  [6, 2.5L]         Gray  ...        BMW  152000   \n",
       "3    Minivan        FWD  [6, 3.5L]        White  ...     Nissan   40347   \n",
       "4        Van        FWD  [4, 2.0L]        White  ...     Nissan  103728   \n",
       "\n",
       "     model mpg_city_highway    stock transmission  year   Region Num_Cyl  \\\n",
       "0   Acadia            17/24   E79334    Automatic  2011  Central       6   \n",
       "1   Impala            19/29  PV5110A    Automatic  2011  Central       6   \n",
       "2  3Series            17/24   m59833    Automatic  2004  Central       6   \n",
       "3    Quest            19/25   18B378    Automatic  2014  Central       6   \n",
       "4    NV200            24/25   693736    Automatic  2013  Central       4   \n",
       "\n",
       "  Cyl_Volume  \n",
       "0        3.6  \n",
       "1        3.5  \n",
       "2        2.5  \n",
       "3        3.5  \n",
       "4        2.0  \n",
       "\n",
       "[5 rows x 23 columns]"
      ]
     },
     "execution_count": 14,
     "metadata": {},
     "output_type": "execute_result"
    }
   ],
   "source": [
    "df8=df7.dropna()\n",
    "df8.head()"
   ]
  },
  {
   "cell_type": "code",
   "execution_count": 15,
   "metadata": {
    "ExecuteTime": {
     "end_time": "2018-04-29T04:30:22.823502Z",
     "start_time": "2018-04-29T04:30:22.802731Z"
    }
   },
   "outputs": [],
   "source": [
    "#remove items without price\n",
    "df9=df8[df8['price']!='CallforPrice']\n",
    "df10=df9[df9['price']!='RequestQuote']"
   ]
  },
  {
   "cell_type": "markdown",
   "metadata": {},
   "source": [
    "### Assign Variables to it's correct TYPE"
   ]
  },
  {
   "cell_type": "code",
   "execution_count": 16,
   "metadata": {
    "ExecuteTime": {
     "end_time": "2018-04-29T04:30:23.342324Z",
     "start_time": "2018-04-29T04:30:23.088078Z"
    },
    "scrolled": true
   },
   "outputs": [
    {
     "name": "stderr",
     "output_type": "stream",
     "text": [
      "c:\\users\\tm_ad\\appdata\\local\\programs\\python\\python36\\lib\\site-packages\\pandas\\core\\frame.py:3494: SettingWithCopyWarning: \n",
      "A value is trying to be set on a copy of a slice from a DataFrame.\n",
      "Try using .loc[row_indexer,col_indexer] = value instead\n",
      "\n",
      "See the caveats in the documentation: http://pandas.pydata.org/pandas-docs/stable/user_guide/indexing.html#returning-a-view-versus-a-copy\n",
      "  self[k1] = value[k2]\n"
     ]
    }
   ],
   "source": [
    "df10[['price', 'City_MPG','milage','Highway_MPG','year']] = df10[['price', 'City_MPG','milage','Highway_MPG','year']].astype(int)"
   ]
  },
  {
   "cell_type": "markdown",
   "metadata": {},
   "source": [
    "### Visualize Data"
   ]
  },
  {
   "cell_type": "code",
   "execution_count": 17,
   "metadata": {
    "ExecuteTime": {
     "end_time": "2018-04-29T04:30:23.634219Z",
     "start_time": "2018-04-29T04:30:23.602656Z"
    }
   },
   "outputs": [
    {
     "name": "stdout",
     "output_type": "stream",
     "text": [
      "<class 'pandas.core.frame.DataFrame'>\n",
      "Int64Index: 26061 entries, 0 to 26324\n",
      "Data columns (total 23 columns):\n",
      "City_MPG            26061 non-null int32\n",
      "Highway_MPG         26061 non-null int32\n",
      "City                26061 non-null object\n",
      "State               26061 non-null object\n",
      "vin                 26061 non-null object\n",
      "price               26061 non-null int32\n",
      "body_style          26061 non-null object\n",
      "drive_type          26061 non-null object\n",
      "engine              26061 non-null object\n",
      "ext_color           26061 non-null object\n",
      "fuel                26061 non-null object\n",
      "int_color           26061 non-null object\n",
      "location            26061 non-null object\n",
      "make                26061 non-null object\n",
      "milage              26061 non-null int32\n",
      "model               26061 non-null object\n",
      "mpg_city_highway    26061 non-null object\n",
      "stock               26061 non-null object\n",
      "transmission        26061 non-null object\n",
      "year                26061 non-null int32\n",
      "Region              26061 non-null object\n",
      "Num_Cyl             26061 non-null object\n",
      "Cyl_Volume          26061 non-null object\n",
      "dtypes: int32(5), object(18)\n",
      "memory usage: 4.3+ MB\n"
     ]
    }
   ],
   "source": [
    "df10.info()"
   ]
  },
  {
   "cell_type": "markdown",
   "metadata": {},
   "source": [
    "#### Validate Data"
   ]
  },
  {
   "cell_type": "code",
   "execution_count": 25,
   "metadata": {
    "ExecuteTime": {
     "end_time": "2018-04-29T04:30:24.111283Z",
     "start_time": "2018-04-29T04:30:23.902651Z"
    }
   },
   "outputs": [
    {
     "data": {
      "text/plain": [
       "Ford             2669\n",
       "Chevrolet        2504\n",
       "Toyota           2192\n",
       "Nissan           1754\n",
       "Honda            1658\n",
       "BMW              1626\n",
       "Jeep             1413\n",
       "Mercedes-Benz    1362\n",
       "Hyundai          1088\n",
       "Lexus             970\n",
       "Volkswagen        845\n",
       "GMC               780\n",
       "Audi              777\n",
       "Dodge             759\n",
       "Kia               742\n",
       "Infiniti          481\n",
       "Acura             470\n",
       "Subaru            467\n",
       "Cadillac          447\n",
       "Chrysler          428\n",
       "Ram               397\n",
       "Mazda             384\n",
       "Buick             345\n",
       "LandRover         229\n",
       "Mini              208\n",
       "Lincoln           195\n",
       "Volvo             173\n",
       "Porsche           166\n",
       "Mitsubishi        109\n",
       "Jaguar             93\n",
       "Scion              91\n",
       "Maserati           88\n",
       "Fiat               54\n",
       "Mercury            18\n",
       "Pontiac            15\n",
       "Hummer             15\n",
       "Saturn             12\n",
       "Saab               11\n",
       "Smart               9\n",
       "Bentley             6\n",
       "AlfaRomeo           4\n",
       "Oldsmobile          2\n",
       "Maybach             2\n",
       "Genesis             1\n",
       "Suzuki              1\n",
       "AstonMartin         1\n",
       "Name: make, dtype: int64"
      ]
     },
     "execution_count": 25,
     "metadata": {},
     "output_type": "execute_result"
    }
   ],
   "source": [
    "\n",
    "df10['make'].value_counts()\n",
    "# df10.to_csv('data/Step3_output_clean_df.csv')"
   ]
  },
  {
   "cell_type": "markdown",
   "metadata": {},
   "source": [
    "#### Data Ready for Analysis:"
   ]
  },
  {
   "cell_type": "code",
   "execution_count": 21,
   "metadata": {
    "ExecuteTime": {
     "end_time": "2018-04-29T04:30:24.367386Z",
     "start_time": "2018-04-29T04:30:24.359437Z"
    }
   },
   "outputs": [],
   "source": [
    "#Cleaned Data TO ANALYZE!\n",
    "Cleaned_data =df10[['price','milage','Highway_MPG','make', 'body_style','fuel', 'State','ext_color','int_color','Region','Num_Cyl','Cyl_Volume','year']]"
   ]
  },
  {
   "cell_type": "code",
   "execution_count": 27,
   "metadata": {
    "ExecuteTime": {
     "end_time": "2018-04-29T04:19:05.180935Z",
     "start_time": "2018-04-29T04:19:05.044788Z"
    },
    "collapsed": true
   },
   "outputs": [],
   "source": []
  },
  {
   "cell_type": "code",
   "execution_count": null,
   "metadata": {
    "collapsed": true
   },
   "outputs": [],
   "source": []
  }
 ],
 "metadata": {
  "kernelspec": {
   "display_name": "Python 3",
   "language": "python",
   "name": "python3"
  },
  "language_info": {
   "codemirror_mode": {
    "name": "ipython",
    "version": 3
   },
   "file_extension": ".py",
   "mimetype": "text/x-python",
   "name": "python",
   "nbconvert_exporter": "python",
   "pygments_lexer": "ipython3",
   "version": "3.6.6"
  },
  "varInspector": {
   "cols": {
    "lenName": 16,
    "lenType": 16,
    "lenVar": 40
   },
   "kernels_config": {
    "python": {
     "delete_cmd_postfix": "",
     "delete_cmd_prefix": "del ",
     "library": "var_list.py",
     "varRefreshCmd": "print(var_dic_list())"
    },
    "r": {
     "delete_cmd_postfix": ") ",
     "delete_cmd_prefix": "rm(",
     "library": "var_list.r",
     "varRefreshCmd": "cat(var_dic_list()) "
    }
   },
   "position": {
    "height": "311px",
    "left": "1430px",
    "right": "20px",
    "top": "120px",
    "width": "350px"
   },
   "types_to_exclude": [
    "module",
    "function",
    "builtin_function_or_method",
    "instance",
    "_Feature"
   ],
   "window_display": false
  }
 },
 "nbformat": 4,
 "nbformat_minor": 2
}
